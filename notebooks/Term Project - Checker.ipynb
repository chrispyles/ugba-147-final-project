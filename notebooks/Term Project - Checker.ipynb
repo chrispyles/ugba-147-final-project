{
 "cells": [
  {
   "cell_type": "markdown",
   "metadata": {
    "hideCode": false,
    "hidePrompt": false
   },
   "source": [
    "# Term Project - Checker\n",
    "\n",
    "![](banner_project_tally.jpg)\n",
    "\n",
    "<br><center>SHOW ME THE DATA ... SHOW ME THE MONEY</center>"
   ]
  },
  {
   "cell_type": "code",
   "execution_count": 1,
   "metadata": {
    "hide_input": false,
    "scrolled": false
   },
   "outputs": [
    {
     "name": "stdout",
     "output_type": "stream",
     "text": [
      "Open code cell here for notebook apparatus."
     ]
    }
   ],
   "source": [
    "cat(\"Open code cell here for notebook apparatus.\")\n",
    "\n",
    "options(warn=-1)\n",
    "\n",
    "# Set some visualization formatting defaults\n",
    "options(scipen=10)"
   ]
  },
  {
   "cell_type": "markdown",
   "metadata": {},
   "source": [
    "## Business Parameters"
   ]
  },
  {
   "cell_type": "code",
   "execution_count": 2,
   "metadata": {},
   "outputs": [],
   "source": [
    "budget = 1000000"
   ]
  },
  {
   "cell_type": "markdown",
   "metadata": {},
   "source": [
    "## Build Key"
   ]
  },
  {
   "cell_type": "code",
   "execution_count": 3,
   "metadata": {},
   "outputs": [],
   "source": [
    "data.new.q4 = read.csv(\"Company Fundamentals 2016-Q4 B.csv\", header=TRUE)\n",
    "data.new.result = read.csv(\"Company Price 2017-Q2 B.csv\", header=TRUE)"
   ]
  },
  {
   "cell_type": "code",
   "execution_count": 4,
   "metadata": {},
   "outputs": [],
   "source": [
    "data.new.q4 = data.new.q4[order(data.new.q4$tic),]\n",
    "data.new.result = data.new.result[order(data.new.result$tic),]\n",
    "key = data.new.q4[, \"tic\", drop=FALSE]\n",
    "key$growth = data.new.result$prccq / data.new.q4$prccq"
   ]
  },
  {
   "cell_type": "markdown",
   "metadata": {},
   "source": [
    "## Quality"
   ]
  },
  {
   "cell_type": "code",
   "execution_count": 6,
   "metadata": {
    "scrolled": true
   },
   "outputs": [],
   "source": [
    "recommend = read.csv(\"Chris Pyles Recommendation B 2018.csv\",  header=TRUE)\n",
    "recommend = recommend[order(recommend$tic),]\n",
    "\n",
    "# data.frame(columns_names_ok=all(colnames(recommend) == c(\"tic\", \"invest\")),\n",
    "#            companies_ok=all(recommend$tic == key$tic),\n",
    "#            investment_levels_ok=(round(sum(recommend$invest)) == budget))"
   ]
  },
  {
   "cell_type": "markdown",
   "metadata": {},
   "source": [
    "## Performance"
   ]
  },
  {
   "cell_type": "code",
   "execution_count": 7,
   "metadata": {},
   "outputs": [
    {
     "data": {
      "text/html": [
       "<table>\n",
       "<thead><tr><th scope=col>budget</th><th scope=col>value</th><th scope=col>profit</th><th scope=col>growth</th><th scope=col>return</th></tr></thead>\n",
       "<tbody>\n",
       "\t<tr><td>1000000  </td><td>1143691  </td><td>143690.9 </td><td>1.143691 </td><td>0.1436909</td></tr>\n",
       "</tbody>\n",
       "</table>\n"
      ],
      "text/latex": [
       "\\begin{tabular}{r|lllll}\n",
       " budget & value & profit & growth & return\\\\\n",
       "\\hline\n",
       "\t 1000000   & 1143691   & 143690.9  & 1.143691  & 0.1436909\\\\\n",
       "\\end{tabular}\n"
      ],
      "text/markdown": [
       "\n",
       "| budget | value | profit | growth | return |\n",
       "|---|---|---|---|---|\n",
       "| 1000000   | 1143691   | 143690.9  | 1.143691  | 0.1436909 |\n",
       "\n"
      ],
      "text/plain": [
       "  budget  value   profit   growth   return   \n",
       "1 1000000 1143691 143690.9 1.143691 0.1436909"
      ]
     },
     "metadata": {},
     "output_type": "display_data"
    }
   ],
   "source": [
    "value = sum(recommend$invest * key$growth)\n",
    "profit = value - budget\n",
    "growth = value / budget\n",
    "return = growth - 1\n",
    "\n",
    "data.frame(budget, value, profit, growth, return)"
   ]
  },
  {
   "cell_type": "markdown",
   "metadata": {},
   "source": [
    "<font size=1;>\n",
    "<p style=\"text-align: left;\">\n",
    "Copyright (c) Berkeley Data Analytics Group, LLC\n",
    "<span style=\"float: right;\">\n",
    "document revised May 17, 2019\n",
    "</span>\n",
    "</p>\n",
    "</font>"
   ]
  }
 ],
 "metadata": {
  "celltoolbar": "Tags",
  "hide_code_all_hidden": false,
  "hide_input": false,
  "kernelspec": {
   "display_name": "R",
   "language": "R",
   "name": "ir"
  },
  "language_info": {
   "codemirror_mode": "r",
   "file_extension": ".r",
   "mimetype": "text/x-r-source",
   "name": "R",
   "pygments_lexer": "r",
   "version": "3.5.1"
  },
  "toc": {
   "base_numbering": 1,
   "nav_menu": {},
   "number_sections": true,
   "sideBar": true,
   "skip_h1_title": true,
   "title_cell": "Table of Contents",
   "title_sidebar": "Contents",
   "toc_cell": false,
   "toc_position": {},
   "toc_section_display": true,
   "toc_window_display": true
  }
 },
 "nbformat": 4,
 "nbformat_minor": 2
}
