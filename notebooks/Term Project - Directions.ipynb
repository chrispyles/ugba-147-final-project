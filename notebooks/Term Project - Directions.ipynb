{
 "cells": [
  {
   "cell_type": "markdown",
   "metadata": {
    "hideCode": false,
    "hidePrompt": false
   },
   "source": [
    "# Term Project - Directions\n",
    "\n",
    "![](banner_project.jpg)"
   ]
  },
  {
   "cell_type": "markdown",
   "metadata": {},
   "source": [
    "## Objective\n",
    "\n",
    "Recommend a portfolio of investments in companies that maximizes 6-month return.  The total investment will be $1,000,000, distributed among 1,000 specific companies, made in quarter 4 of 2016."
   ]
  },
  {
   "cell_type": "markdown",
   "metadata": {},
   "source": [
    "## Approach\n",
    "\n",
    "Your approach should be to ...\n",
    "* explore historical company fundamentals data for 3,000 companies from quarters 1, 2, 3, and 4 of year 2016 + historical company stock price data for those 3,000 companies from quarter 2 of year 2017,\n",
    "* build and evaluate a cluster model based on the 2016 data,\n",
    "* build and evaluate a predictive model based on the 2016 data + 2017 data that will predict some variable related to company stock price growth from quarter 4 of year 2016 to quarter 2 of year 2017, \n",
    "* develop a criterion to choose a portfolio of investments (i.e., a distribution of investment levels across all the companies), informed by your cluster model and predictive model.\n",
    "\n",
    "Then apply your models and criterion to company fundamentals data for 1,000 new companies to choose a portfolio of investments (i.e., a distribution of investment levels across the 1,000 new companies)."
   ]
  },
  {
   "cell_type": "markdown",
   "metadata": {},
   "source": [
    "## Data\n",
    "\n",
    "Data provided to you comes from Compustat.  Data comprises select companies that reported quarterly measures including stock prices for 1st, 2nd, 3rd, and 4th quarters in year 2016 and 2nd quarter in year 2017.  All prices exceed $2 per share.\n",
    "\n",
    "To explore and build your models:\n",
    "* Data Dictionary.csv\n",
    "* Company Fundamentals 2016-Q1 A.csv\n",
    "* Company Fundamentals 2016-Q2 A.csv\n",
    "* Company Fundamentals 2016-Q3 A.csv\n",
    "* Company Fundamentals 2016-Q4 A.csv\n",
    "* Company Price 2017-Q2 A.csv\n",
    "\n",
    "To test your models:\n",
    "* Company Fundamentals 2016-Q1 B.csv\n",
    "* Company Fundamentals 2016-Q2 B.csv\n",
    "* Company Fundamentals 2016-Q3 B.csv\n",
    "* Company Fundamentals 2016-Q4 B.csv\n",
    "* Company Price 2017-Q2 B.csv"
   ]
  },
  {
   "cell_type": "markdown",
   "metadata": {},
   "source": [
    "## Deliverables\n",
    "\n",
    "* Data exploration, cluster model, predictive model, reflection\n",
    "  * Based on company data provided on first day of class\n",
    "  * Format: Jupyter/R - see sample\n",
    "* Presentation\n",
    "  * Present on last day of class\n",
    "  * Format: Powerpoint - see template\n",
    "* Portfolio recommendation\n",
    "  * Based on company data provided on last day of class\n",
    "  * Format: .csv datafile - see sample"
   ]
  },
  {
   "cell_type": "markdown",
   "metadata": {},
   "source": [
    "## Guidance\n",
    "\n",
    "A good project will include ... \n",
    "\n",
    "* R code:\n",
    "  * Data exploration using a variety of methods, including possibly descriptive statistics, cross-tabulation, and/or data visualization\n",
    "  * Data preparation using a variety of methods, including possibly imputing, balacing, and/or principal component analysis\n",
    "  * Cluster model construction using a variety of methods, including possibly Gaussian mixture model estimation by expectation-maximization\n",
    "  * Predictive model construction using a variety of methods, including possibly naive bayes, support vector machine, neural network, and/or others\n",
    "  * Model evaluation by cross-validation\n",
    "  * Model tuning\n",
    "\n",
    "\n",
    "* Reflection: \n",
    "  * Why did you prepare the data as you did?\n",
    "  * What insights did you get from your data exploration?\n",
    "  * What approach did you take in developing several candidate models?  \n",
    "  * How did you select your model from among the several candidate models?\n",
    "  * What approach did you take in tuning your model?\n",
    "  * What did you learn from the project?\n",
    "  * What advice about model development do you have for others?"
   ]
  },
  {
   "cell_type": "markdown",
   "metadata": {},
   "source": [
    "<font size=1;>\n",
    "<p style=\"text-align: left;\">\n",
    "Copyright (c) Berkeley Data Analytics Group, LLC\n",
    "<span style=\"float: right;\">\n",
    "document revised May 17, 2019\n",
    "</span>\n",
    "</p>\n",
    "</font>"
   ]
  }
 ],
 "metadata": {
  "hide_code_all_hidden": false,
  "hide_input": false,
  "kernelspec": {
   "display_name": "R",
   "language": "R",
   "name": "ir"
  },
  "language_info": {
   "codemirror_mode": "r",
   "file_extension": ".r",
   "mimetype": "text/x-r-source",
   "name": "R",
   "pygments_lexer": "r",
   "version": "3.5.1"
  },
  "toc": {
   "base_numbering": 1,
   "nav_menu": {},
   "number_sections": true,
   "sideBar": true,
   "skip_h1_title": true,
   "title_cell": "Table of Contents",
   "title_sidebar": "Contents",
   "toc_cell": false,
   "toc_position": {},
   "toc_section_display": true,
   "toc_window_display": true
  }
 },
 "nbformat": 4,
 "nbformat_minor": 2
}
